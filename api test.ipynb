{
 "cells": [
  {
   "cell_type": "code",
   "execution_count": 8,
   "metadata": {},
   "outputs": [
    {
     "name": "stdout",
     "output_type": "stream",
     "text": [
      "<Response [200]>\n",
      "{\"version\":\"3.1.0\",\"minimum_compatible_version\":\"3.0.0\"}\n"
     ]
    }
   ],
   "source": [
    "import requests,json\n",
    "\n",
    "url = 'http://59.68.29.90:5005/version'\n",
    "\n",
    "r = requests.get(url)\n",
    "\n",
    "print(r)\n",
    "print(r.text)"
   ]
  },
  {
   "cell_type": "code",
   "execution_count": 18,
   "metadata": {},
   "outputs": [
    {
     "name": "stdout",
     "output_type": "stream",
     "text": [
      "<Response [200]>\n",
      "{\"text\":\"vivir sin aire\",\"intent\":{\"name\":\"Music_Play\",\"confidence\":0.9999971389770508},\"entities\":[{\"entity\":\"song\",\"start\":0,\"end\":14,\"confidence_entity\":0.9967162609100342,\"value\":\"vivir sin aire\",\"extractor\":\"DIETClassifier\"}],\"text_tokens\":[[0,5],[6,9],[10,14]],\"intent_ranking\":[{\"name\":\"Music_Play\",\"confidence\":0.9999971389770508},{\"name\":\"affirm\",\"confidence\":1.0871865470107878e-6},{\"name\":\"goodbye\",\"confidence\":4.5961553496454144e-7},{\"name\":\"bot_challenge\",\"confidence\":3.9790143091522623e-7},{\"name\":\"deny\",\"confidence\":3.7560837995442853e-7},{\"name\":\"mood_great\",\"confidence\":2.1377167058744817e-7},{\"name\":\"greet\",\"confidence\":1.8891135766807565e-7},{\"name\":\"mood_unhappy\",\"confidence\":1.5440038225733588e-7}],\"response_selector\":{\"all_retrieval_intents\":[],\"default\":{\"response\":{\"responses\":null,\"confidence\":0.0,\"intent_response_key\":null,\"utter_action\":\"utter_None\"},\"ranking\":[]}}}\n"
     ]
    }
   ],
   "source": [
    "import requests,json\n",
    "\n",
    "url = 'http://59.68.29.90:5005/model/parse'\n",
    "\n",
    "data = {\n",
    "  \"text\": \"vivir sin aire\",\n",
    "  \"message_id\": \"b2831e73-1407-4ba0-a861-0f30a42a2a5a\"\n",
    "}\n",
    "\n",
    "r = requests.post(url, data = json.dumps(data), headers={'Content-Type':'application/json'})\n",
    "\n",
    "print(r)\n",
    "print(r.text)"
   ]
  }
 ],
 "metadata": {
  "kernelspec": {
   "display_name": "Python 3",
   "language": "python",
   "name": "python3"
  },
  "language_info": {
   "codemirror_mode": {
    "name": "ipython",
    "version": 3
   },
   "file_extension": ".py",
   "mimetype": "text/x-python",
   "name": "python",
   "nbconvert_exporter": "python",
   "pygments_lexer": "ipython3",
   "version": "3.7.0"
  }
 },
 "nbformat": 4,
 "nbformat_minor": 2
}
